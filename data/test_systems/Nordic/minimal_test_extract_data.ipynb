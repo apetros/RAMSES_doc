{
 "cells": [
  {
   "cell_type": "code",
   "execution_count": 1,
   "metadata": {},
   "outputs": [],
   "source": [
    "import pyramses"
   ]
  },
  {
   "cell_type": "code",
   "execution_count": 2,
   "metadata": {},
   "outputs": [
    {
     "name": "stdout",
     "output_type": "stream",
     "text": [
      "RAMSESWarning: The file init.trace already exists. It will be overwritten!\n",
      "RAMSESWarning: The file obs.trj already exists. It will be overwritten!\n",
      "RAMSESWarning: The file cont.trace already exists. It will be overwritten!\n",
      "RAMSESWarning: The file disc.trace already exists. It will be overwritten!\n"
     ]
    }
   ],
   "source": [
    "case = pyramses.cfg(\"case.rcfg\") # load case from a configuration file"
   ]
  },
  {
   "cell_type": "code",
   "execution_count": 3,
   "metadata": {},
   "outputs": [],
   "source": [
    "ram = pyramses.sim()"
   ]
  },
  {
   "cell_type": "code",
   "execution_count": 4,
   "metadata": {},
   "outputs": [
    {
     "ename": "RAMSESError",
     "evalue": "RAMSES: Function execSim(C:\\Users\\eenpar\\OneDrive - University of Leeds\\Downloads\\Nordic\\Nordic-RAMSES\\pyramses_r_ecg4td.txt) failed with the flag -1. Last message was: ERROR CALL FROM DCTL sim_minmaxvolt Voltages t =  167.9220         Voltage out of bounds at bus g6 :  0.50",
     "output_type": "error",
     "traceback": [
      "\u001b[1;31m---------------------------------------------------------------------------\u001b[0m",
      "\u001b[1;31mRAMSESError\u001b[0m                               Traceback (most recent call last)",
      "\u001b[1;32m<ipython-input-4-8efc64a78b58>\u001b[0m in \u001b[0;36m<module>\u001b[1;34m\u001b[0m\n\u001b[1;32m----> 1\u001b[1;33m \u001b[0mram\u001b[0m\u001b[1;33m.\u001b[0m\u001b[0mexecSim\u001b[0m\u001b[1;33m(\u001b[0m\u001b[0mcase\u001b[0m\u001b[1;33m)\u001b[0m \u001b[1;31m# run the simulation. An error means a violation (voltage collapse)\u001b[0m\u001b[1;33m\u001b[0m\u001b[1;33m\u001b[0m\u001b[0m\n\u001b[0m",
      "\u001b[1;32m~\\AppData\\Local\\Continuum\\anaconda3\\lib\\site-packages\\pyramses\\simulator.py\u001b[0m in \u001b[0;36mexecSim\u001b[1;34m(self, cmd, pause)\u001b[0m\n\u001b[0;32m    250\u001b[0m         \u001b[0mretval\u001b[0m \u001b[1;33m=\u001b[0m \u001b[0mself\u001b[0m\u001b[1;33m.\u001b[0m\u001b[0m_ramseslib\u001b[0m\u001b[1;33m.\u001b[0m\u001b[0mramses\u001b[0m\u001b[1;33m(\u001b[0m\u001b[0mcmdfilename\u001b[0m\u001b[1;33m.\u001b[0m\u001b[0mencode\u001b[0m\u001b[1;33m(\u001b[0m\u001b[1;34m'utf-8'\u001b[0m\u001b[1;33m)\u001b[0m\u001b[1;33m,\u001b[0m \u001b[0moutfilename\u001b[0m\u001b[1;33m.\u001b[0m\u001b[0mencode\u001b[0m\u001b[1;33m(\u001b[0m\u001b[1;34m'utf-8'\u001b[0m\u001b[1;33m)\u001b[0m\u001b[1;33m)\u001b[0m\u001b[1;33m\u001b[0m\u001b[1;33m\u001b[0m\u001b[0m\n\u001b[0;32m    251\u001b[0m         \u001b[1;32mif\u001b[0m \u001b[1;33m(\u001b[0m\u001b[0mretval\u001b[0m \u001b[1;33m!=\u001b[0m \u001b[1;36m0\u001b[0m\u001b[1;33m)\u001b[0m \u001b[1;32mand\u001b[0m \u001b[1;33m(\u001b[0m\u001b[0mretval\u001b[0m \u001b[1;33m!=\u001b[0m \u001b[1;36m112\u001b[0m\u001b[1;33m)\u001b[0m\u001b[1;33m:\u001b[0m\u001b[1;33m\u001b[0m\u001b[1;33m\u001b[0m\u001b[0m\n\u001b[1;32m--> 252\u001b[1;33m             \u001b[1;32mraise\u001b[0m \u001b[0mRAMSESError\u001b[0m\u001b[1;33m(\u001b[0m\u001b[1;34m'RAMSES: Function execSim(%s) failed with the flag %i. Last message was: %s'\u001b[0m \u001b[1;33m%\u001b[0m \u001b[1;33m(\u001b[0m\u001b[0mcmdfilename\u001b[0m\u001b[1;33m,\u001b[0m \u001b[0mretval\u001b[0m\u001b[1;33m,\u001b[0m \u001b[0mself\u001b[0m\u001b[1;33m.\u001b[0m\u001b[0mgetLastErr\u001b[0m\u001b[1;33m(\u001b[0m\u001b[1;33m)\u001b[0m\u001b[1;33m)\u001b[0m\u001b[1;33m)\u001b[0m\u001b[1;33m\u001b[0m\u001b[1;33m\u001b[0m\u001b[0m\n\u001b[0m\u001b[0;32m    253\u001b[0m         \u001b[1;32mreturn\u001b[0m \u001b[1;36m0\u001b[0m\u001b[1;33m\u001b[0m\u001b[1;33m\u001b[0m\u001b[0m\n\u001b[0;32m    254\u001b[0m \u001b[1;33m\u001b[0m\u001b[0m\n",
      "\u001b[1;31mRAMSESError\u001b[0m: RAMSES: Function execSim(C:\\Users\\eenpar\\OneDrive - University of Leeds\\Downloads\\Nordic\\Nordic-RAMSES\\pyramses_r_ecg4td.txt) failed with the flag -1. Last message was: ERROR CALL FROM DCTL sim_minmaxvolt Voltages t =  167.9220         Voltage out of bounds at bus g6 :  0.50"
     ]
    }
   ],
   "source": [
    "ram.execSim(case) # run the simulation. An error means a violation (voltage collapse)"
   ]
  },
  {
   "cell_type": "code",
   "execution_count": 5,
   "metadata": {},
   "outputs": [],
   "source": [
    "ext = pyramses.extractor(case.getTrj()) # get the simulated data"
   ]
  },
  {
   "cell_type": "code",
   "execution_count": 6,
   "metadata": {},
   "outputs": [
    {
     "data": {
      "image/png": "[encoded data removed]",
      "text/plain": [
       "<Figure size 432x288 with 1 Axes>"
      ]
     },
     "metadata": {
      "needs_background": "light"
     },
     "output_type": "display_data"
    }
   ],
   "source": [
    "ext.getBus('1041').mag.plot() # will plot the timeseries simulated for the voltage magnitude on bus '1041'   "
   ]
  },
  {
   "cell_type": "code",
   "execution_count": 7,
   "metadata": {},
   "outputs": [],
   "source": [
    "busnames = ram.getAllCompNames(\"BUS\") # Get all the names of the buses in the system"
   ]
  },
  {
   "cell_type": "code",
   "execution_count": 8,
   "metadata": {},
   "outputs": [],
   "source": [
    "mag = []\n",
    "pha = []\n",
    "for bus in busnames:\n",
    "    mag.append(ext.getBus(bus).mag)\n",
    "    pha.append(ext.getBus(bus).pha)"
   ]
  },
  {
   "cell_type": "code",
   "execution_count": 9,
   "metadata": {},
   "outputs": [],
   "source": [
    "# pop out interactive window\n",
    "%matplotlib qt \n",
    "pyramses.curplot(mag) # plot all voltage magnitudes"
   ]
  },
  {
   "cell_type": "code",
   "execution_count": 10,
   "metadata": {},
   "outputs": [],
   "source": [
    "pyramses.curplot(pha) # plot all phases"
   ]
  },
  {
   "cell_type": "code",
   "execution_count": 11,
   "metadata": {},
   "outputs": [],
   "source": [
    "# back to inline\n",
    "%matplotlib inline"
   ]
  },
  {
   "cell_type": "code",
   "execution_count": null,
   "metadata": {},
   "outputs": [],
   "source": []
  }
 ],
 "metadata": {
  "kernelspec": {
   "display_name": "Python 3",
   "language": "python",
   "name": "python3"
  },
  "language_info": {
   "codemirror_mode": {
    "name": "ipython",
    "version": 3
   },
   "file_extension": ".py",
   "mimetype": "text/x-python",
   "name": "python",
   "nbconvert_exporter": "python",
   "pygments_lexer": "ipython3",
   "version": "3.7.3"
  }
 },
 "nbformat": 4,
 "nbformat_minor": 2
}
